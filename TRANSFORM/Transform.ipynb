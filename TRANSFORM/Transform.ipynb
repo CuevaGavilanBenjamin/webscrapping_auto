{
 "cells": [
  {
   "cell_type": "code",
   "execution_count": null,
   "id": "51d37f3e",
   "metadata": {},
   "outputs": [],
   "source": [
    "#%pip install pandas"
   ]
  },
  {
   "cell_type": "code",
   "execution_count": null,
   "id": "0471b675",
   "metadata": {},
   "outputs": [],
   "source": [
    "import pandas as pd\n",
    "import os\n",
    "from datetime import datetime"
   ]
  },
  {
   "cell_type": "code",
   "execution_count": 32,
   "id": "3625a3f5",
   "metadata": {},
   "outputs": [],
   "source": [
    "import pandas as pd\n",
    "import os\n",
    "from datetime import datetime\n",
    "\n",
    "# Directorio de los datos\n",
    "base_path = \"../EXTRACT/\"\n",
    "\n",
    "# Obtener la fecha actual para el reporte\n",
    "hoy = datetime.today().strftime(\"%d-%m-%Y\")\n",
    "\n",
    "# Lista para almacenar los DataFrames\n",
    "all_data = []\n",
    "\n",
    "# Recorre todas las carpetas (fechas) de la estructura\n",
    "for folder_name in os.listdir(base_path):\n",
    "    folder_path = os.path.join(base_path, folder_name)\n",
    "    \n",
    "    # Verificar que sea una carpeta con datos\n",
    "    if os.path.isdir(folder_path):\n",
    "        try:\n",
    "            # Intentar cargar el archivo JSON\n",
    "            df = pd.read_json(os.path.join(folder_path, 'sbs_tipo_cambio.json'))\n",
    "            df[\"Fecha\"]=folder_name\n",
    "            all_data.append(df)\n",
    "        except:\n",
    "            print(f\"No se pudo leer el archivo para {folder_name}\")\n",
    "\n",
    "# Concatenar todos los DataFrames en uno solo\n",
    "final_df = pd.concat(all_data, ignore_index=True)\n",
    "\n",
    "# Guardar el archivo CSV consolidado\n",
    "final_df.to_csv(\"reporte_consolidado.csv\", index=False)\n"
   ]
  },
  {
   "cell_type": "code",
   "execution_count": null,
   "id": "4ecbd763",
   "metadata": {},
   "outputs": [],
   "source": []
  }
 ],
 "metadata": {
  "kernelspec": {
   "display_name": "Python 3",
   "language": "python",
   "name": "python3"
  },
  "language_info": {
   "codemirror_mode": {
    "name": "ipython",
    "version": 3
   },
   "file_extension": ".py",
   "mimetype": "text/x-python",
   "name": "python",
   "nbconvert_exporter": "python",
   "pygments_lexer": "ipython3",
   "version": "3.11.8"
  }
 },
 "nbformat": 4,
 "nbformat_minor": 5
}
