{
 "cells": [
  {
   "cell_type": "code",
   "execution_count": 2,
   "id": "a98984a7",
   "metadata": {},
   "outputs": [
    {
     "name": "stdout",
     "output_type": "stream",
     "text": [
      "Requirement already satisfied: selenium in c:\\users\\benjamin\\appdata\\local\\programs\\python\\python311\\lib\\site-packages (4.31.0)\n",
      "Requirement already satisfied: urllib3<3,>=1.26 in c:\\users\\benjamin\\appdata\\local\\programs\\python\\python311\\lib\\site-packages (from urllib3[socks]<3,>=1.26->selenium) (2.3.0)\n",
      "Requirement already satisfied: trio~=0.17 in c:\\users\\benjamin\\appdata\\local\\programs\\python\\python311\\lib\\site-packages (from selenium) (0.29.0)\n",
      "Requirement already satisfied: trio-websocket~=0.9 in c:\\users\\benjamin\\appdata\\local\\programs\\python\\python311\\lib\\site-packages (from selenium) (0.12.2)\n",
      "Requirement already satisfied: certifi>=2021.10.8 in c:\\users\\benjamin\\appdata\\local\\programs\\python\\python311\\lib\\site-packages (from selenium) (2025.1.31)\n",
      "Requirement already satisfied: typing_extensions~=4.9 in c:\\users\\benjamin\\appdata\\roaming\\python\\python311\\site-packages (from selenium) (4.12.2)\n",
      "Requirement already satisfied: websocket-client~=1.8 in c:\\users\\benjamin\\appdata\\local\\programs\\python\\python311\\lib\\site-packages (from selenium) (1.8.0)\n",
      "Requirement already satisfied: attrs>=23.2.0 in c:\\users\\benjamin\\appdata\\local\\programs\\python\\python311\\lib\\site-packages (from trio~=0.17->selenium) (25.1.0)\n",
      "Requirement already satisfied: sortedcontainers in c:\\users\\benjamin\\appdata\\local\\programs\\python\\python311\\lib\\site-packages (from trio~=0.17->selenium) (2.4.0)\n",
      "Requirement already satisfied: idna in c:\\users\\benjamin\\appdata\\local\\programs\\python\\python311\\lib\\site-packages (from trio~=0.17->selenium) (3.10)\n",
      "Requirement already satisfied: outcome in c:\\users\\benjamin\\appdata\\local\\programs\\python\\python311\\lib\\site-packages (from trio~=0.17->selenium) (1.3.0.post0)\n",
      "Requirement already satisfied: sniffio>=1.3.0 in c:\\users\\benjamin\\appdata\\local\\programs\\python\\python311\\lib\\site-packages (from trio~=0.17->selenium) (1.3.1)\n",
      "Requirement already satisfied: cffi>=1.14 in c:\\users\\benjamin\\appdata\\local\\programs\\python\\python311\\lib\\site-packages (from trio~=0.17->selenium) (1.17.1)\n",
      "Requirement already satisfied: wsproto>=0.14 in c:\\users\\benjamin\\appdata\\local\\programs\\python\\python311\\lib\\site-packages (from trio-websocket~=0.9->selenium) (1.2.0)\n",
      "Requirement already satisfied: pysocks!=1.5.7,<2.0,>=1.5.6 in c:\\users\\benjamin\\appdata\\local\\programs\\python\\python311\\lib\\site-packages (from urllib3[socks]<3,>=1.26->selenium) (1.7.1)\n",
      "Requirement already satisfied: pycparser in c:\\users\\benjamin\\appdata\\local\\programs\\python\\python311\\lib\\site-packages (from cffi>=1.14->trio~=0.17->selenium) (2.22)\n",
      "Requirement already satisfied: h11<1,>=0.9.0 in c:\\users\\benjamin\\appdata\\local\\programs\\python\\python311\\lib\\site-packages (from wsproto>=0.14->trio-websocket~=0.9->selenium) (0.14.0)\n",
      "Note: you may need to restart the kernel to use updated packages.\n"
     ]
    },
    {
     "name": "stderr",
     "output_type": "stream",
     "text": [
      "\n",
      "[notice] A new release of pip is available: 25.0.1 -> 25.1.1\n",
      "[notice] To update, run: python.exe -m pip install --upgrade pip\n"
     ]
    }
   ],
   "source": [
    "%pip install selenium\n"
   ]
  },
  {
   "cell_type": "code",
   "execution_count": 3,
   "id": "0108eb85",
   "metadata": {},
   "outputs": [],
   "source": [
    "from selenium import webdriver\n",
    "from selenium.webdriver.common.by import By\n",
    "import os\n",
    "import json\n",
    "from datetime import datetime\n",
    "import time"
   ]
  },
  {
   "cell_type": "code",
   "execution_count": 4,
   "id": "84722276",
   "metadata": {},
   "outputs": [],
   "source": [
    "#Entrando a la pagina de la sbs\n",
    "driver = webdriver.Chrome()\n",
    "driver.get('https://www.sbs.gob.pe/app/pp/SISTIP_PORTAL/Paginas/Publicacion/TipoCambioPromedio.aspx')\n",
    "time.sleep(3)"
   ]
  },
  {
   "cell_type": "code",
   "execution_count": 5,
   "id": "5207152e",
   "metadata": {},
   "outputs": [
    {
     "name": "stdout",
     "output_type": "stream",
     "text": [
      "{'moneda': 'Dólar de N.A.', 'compra': '3.652', 'venta': '3.662'}\n",
      "{'moneda': 'Dólar Australiano', 'compra': '2.146', 'venta': '2.516'}\n",
      "{'moneda': 'Dólar Canadiense', 'compra': '2.271', 'venta': '2.646'}\n",
      "{'moneda': 'Libra Esterlina', 'compra': '4.479', 'venta': '4.865'}\n",
      "{'moneda': 'Yen Japonés', 'compra': '0.025', 'venta': '0.025'}\n",
      "{'moneda': 'Peso Mexicano', 'compra': '0.186', 'venta': '0.188'}\n",
      "{'moneda': 'Franco Suizo', 'compra': '4.084', 'venta': '4.333'}\n",
      "{'moneda': 'Euro', 'compra': '3.803', 'venta': '4.384'}\n"
     ]
    }
   ],
   "source": [
    "tbody = driver.find_element(By.XPATH, '//*[@id=\"ctl00_cphContent_rgTipoCambio_ctl00\"]/tbody')\n",
    "\n",
    "# Encontrar todas las filas (tr)\n",
    "filas = tbody.find_elements(By.TAG_NAME, 'tr')\n",
    "\n",
    "# Extraer los datos\n",
    "datos = []\n",
    "for fila in filas:\n",
    "    columnas = fila.find_elements(By.TAG_NAME, 'td')\n",
    "    if len(columnas) == 3:  # Esperamos 3 columnas: Moneda, Compra, Venta\n",
    "        moneda = columnas[0].text.strip()\n",
    "        compra = columnas[1].text.strip()\n",
    "        venta = columnas[2].text.strip()\n",
    "        if (compra==\"0\" and venta !=\"0\"):\n",
    "            compra=venta\n",
    "        elif (venta==\"0\" and compra !=\"0\"):\n",
    "            venta=compra\n",
    "        datos.append({\n",
    "            \"moneda\": moneda,\n",
    "            \"compra\": compra,\n",
    "            \"venta\": venta\n",
    "        })\n",
    "# Mostrar resultado\n",
    "for d in datos:\n",
    "    print(d)\n",
    "\n",
    "# Cerrar navegador\n",
    "driver.quit()"
   ]
  },
  {
   "cell_type": "code",
   "execution_count": null,
   "id": "c95f9e64",
   "metadata": {},
   "outputs": [
    {
     "name": "stdout",
     "output_type": "stream",
     "text": [
      "Datos guardados exitosamente en 12-05-2025/sbs_tipo_cambio.json\n"
     ]
    }
   ],
   "source": [
    "fecha_hoy = datetime.now().strftime('%d-%m-%Y')\n",
    "\n",
    "# Crear la carpeta destino\n",
    "ruta_carpeta = f\"{fecha_hoy}/\"\n",
    "os.makedirs(ruta_carpeta, exist_ok=True)\n",
    "\n",
    "# Definir el nombre del archivo\n",
    "ruta_archivo = os.path.join(ruta_carpeta, 'sbs_tipo_cambio.json')\n",
    "\n",
    "# Guardar los datos en formato JSON\n",
    "with open(ruta_archivo, 'w', encoding='utf-8') as f:\n",
    "    json.dump(datos, f, indent=4, ensure_ascii=False)\n",
    "\n",
    "print(f\"Datos guardados exitosamente en {ruta_archivo}\")"
   ]
  }
 ],
 "metadata": {
  "kernelspec": {
   "display_name": "Python 3",
   "language": "python",
   "name": "python3"
  },
  "language_info": {
   "codemirror_mode": {
    "name": "ipython",
    "version": 3
   },
   "file_extension": ".py",
   "mimetype": "text/x-python",
   "name": "python",
   "nbconvert_exporter": "python",
   "pygments_lexer": "ipython3",
   "version": "3.11.8"
  }
 },
 "nbformat": 4,
 "nbformat_minor": 5
}
