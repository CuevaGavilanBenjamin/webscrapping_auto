{
 "cells": [
  {
   "cell_type": "code",
   "execution_count": 1,
   "id": "a98984a7",
   "metadata": {},
   "outputs": [
    {
     "name": "stdout",
     "output_type": "stream",
     "text": [
      "Requirement already satisfied: selenium in c:\\users\\benjamin\\appdata\\local\\programs\\python\\python311\\lib\\site-packages (4.31.0)\n",
      "Requirement already satisfied: urllib3<3,>=1.26 in c:\\users\\benjamin\\appdata\\local\\programs\\python\\python311\\lib\\site-packages (from urllib3[socks]<3,>=1.26->selenium) (2.3.0)\n",
      "Requirement already satisfied: trio~=0.17 in c:\\users\\benjamin\\appdata\\local\\programs\\python\\python311\\lib\\site-packages (from selenium) (0.29.0)\n",
      "Requirement already satisfied: trio-websocket~=0.9 in c:\\users\\benjamin\\appdata\\local\\programs\\python\\python311\\lib\\site-packages (from selenium) (0.12.2)\n",
      "Requirement already satisfied: certifi>=2021.10.8 in c:\\users\\benjamin\\appdata\\local\\programs\\python\\python311\\lib\\site-packages (from selenium) (2025.1.31)\n",
      "Requirement already satisfied: typing_extensions~=4.9 in c:\\users\\benjamin\\appdata\\roaming\\python\\python311\\site-packages (from selenium) (4.12.2)\n",
      "Requirement already satisfied: websocket-client~=1.8 in c:\\users\\benjamin\\appdata\\local\\programs\\python\\python311\\lib\\site-packages (from selenium) (1.8.0)\n",
      "Requirement already satisfied: attrs>=23.2.0 in c:\\users\\benjamin\\appdata\\local\\programs\\python\\python311\\lib\\site-packages (from trio~=0.17->selenium) (25.1.0)\n",
      "Requirement already satisfied: sortedcontainers in c:\\users\\benjamin\\appdata\\local\\programs\\python\\python311\\lib\\site-packages (from trio~=0.17->selenium) (2.4.0)\n",
      "Requirement already satisfied: idna in c:\\users\\benjamin\\appdata\\local\\programs\\python\\python311\\lib\\site-packages (from trio~=0.17->selenium) (3.10)\n",
      "Requirement already satisfied: outcome in c:\\users\\benjamin\\appdata\\local\\programs\\python\\python311\\lib\\site-packages (from trio~=0.17->selenium) (1.3.0.post0)\n",
      "Requirement already satisfied: sniffio>=1.3.0 in c:\\users\\benjamin\\appdata\\local\\programs\\python\\python311\\lib\\site-packages (from trio~=0.17->selenium) (1.3.1)\n",
      "Requirement already satisfied: cffi>=1.14 in c:\\users\\benjamin\\appdata\\local\\programs\\python\\python311\\lib\\site-packages (from trio~=0.17->selenium) (1.17.1)\n",
      "Requirement already satisfied: wsproto>=0.14 in c:\\users\\benjamin\\appdata\\local\\programs\\python\\python311\\lib\\site-packages (from trio-websocket~=0.9->selenium) (1.2.0)\n",
      "Requirement already satisfied: pysocks!=1.5.7,<2.0,>=1.5.6 in c:\\users\\benjamin\\appdata\\local\\programs\\python\\python311\\lib\\site-packages (from urllib3[socks]<3,>=1.26->selenium) (1.7.1)\n",
      "Requirement already satisfied: pycparser in c:\\users\\benjamin\\appdata\\local\\programs\\python\\python311\\lib\\site-packages (from cffi>=1.14->trio~=0.17->selenium) (2.22)\n",
      "Requirement already satisfied: h11<1,>=0.9.0 in c:\\users\\benjamin\\appdata\\local\\programs\\python\\python311\\lib\\site-packages (from wsproto>=0.14->trio-websocket~=0.9->selenium) (0.14.0)\n",
      "Note: you may need to restart the kernel to use updated packages.\n"
     ]
    },
    {
     "name": "stderr",
     "output_type": "stream",
     "text": [
      "\n",
      "[notice] A new release of pip is available: 25.0.1 -> 25.1.1\n",
      "[notice] To update, run: python.exe -m pip install --upgrade pip\n"
     ]
    }
   ],
   "source": [
    "%pip install selenium\n"
   ]
  },
  {
   "cell_type": "code",
   "execution_count": 2,
   "id": "0108eb85",
   "metadata": {},
   "outputs": [],
   "source": [
    "from selenium import webdriver\n",
    "from selenium.webdriver.common.by import By\n",
    "import os\n",
    "import json\n",
    "from datetime import datetime\n",
    "import time"
   ]
  },
  {
   "cell_type": "code",
   "execution_count": 3,
   "id": "84722276",
   "metadata": {},
   "outputs": [],
   "source": [
    "#Entrando a la pagina de la sbs\n",
    "driver = webdriver.Chrome()\n",
    "driver.get('https://www.sbs.gob.pe/app/pp/SISTIP_PORTAL/Paginas/Publicacion/TipoCambioPromedio.aspx')\n",
    "time.sleep(3)"
   ]
  },
  {
   "cell_type": "code",
   "execution_count": 4,
   "id": "5207152e",
   "metadata": {},
   "outputs": [
    {
     "ename": "NoSuchWindowException",
     "evalue": "Message: no such window: target window already closed\nfrom unknown error: web view not found\n  (Session info: chrome=136.0.7103.93)\nStacktrace:\n\tGetHandleVerifier [0x00007FF77521CF25+75717]\n\tGetHandleVerifier [0x00007FF77521CF80+75808]\n\t(No symbol) [0x00007FF774FE8F9A]\n\t(No symbol) [0x00007FF774FC1B41]\n\t(No symbol) [0x00007FF77506EC2E]\n\t(No symbol) [0x00007FF77508ECC2]\n\t(No symbol) [0x00007FF775067153]\n\t(No symbol) [0x00007FF775030421]\n\t(No symbol) [0x00007FF7750311B3]\n\tGetHandleVerifier [0x00007FF77551D6FD+3223453]\n\tGetHandleVerifier [0x00007FF775517CA2+3200322]\n\tGetHandleVerifier [0x00007FF775535AD3+3322739]\n\tGetHandleVerifier [0x00007FF7752369FA+180890]\n\tGetHandleVerifier [0x00007FF77523E0FF+211359]\n\tGetHandleVerifier [0x00007FF775225274+109332]\n\tGetHandleVerifier [0x00007FF775225422+109762]\n\tGetHandleVerifier [0x00007FF77520BA39+4825]\n\tBaseThreadInitThunk [0x00007FFFE2E1E8D7+23]\n\tRtlUserThreadStart [0x00007FFFE3DF14FC+44]\n",
     "output_type": "error",
     "traceback": [
      "\u001b[31m---------------------------------------------------------------------------\u001b[39m",
      "\u001b[31mNoSuchWindowException\u001b[39m                     Traceback (most recent call last)",
      "\u001b[36mCell\u001b[39m\u001b[36m \u001b[39m\u001b[32mIn[4]\u001b[39m\u001b[32m, line 1\u001b[39m\n\u001b[32m----> \u001b[39m\u001b[32m1\u001b[39m tbody = \u001b[43mdriver\u001b[49m\u001b[43m.\u001b[49m\u001b[43mfind_element\u001b[49m\u001b[43m(\u001b[49m\u001b[43mBy\u001b[49m\u001b[43m.\u001b[49m\u001b[43mXPATH\u001b[49m\u001b[43m,\u001b[49m\u001b[43m \u001b[49m\u001b[33;43m'\u001b[39;49m\u001b[33;43m//*[@id=\u001b[39;49m\u001b[33;43m\"\u001b[39;49m\u001b[33;43mctl00_cphContent_rgTipoCambio_ctl00\u001b[39;49m\u001b[33;43m\"\u001b[39;49m\u001b[33;43m]/tbody\u001b[39;49m\u001b[33;43m'\u001b[39;49m\u001b[43m)\u001b[49m\n\u001b[32m      3\u001b[39m \u001b[38;5;66;03m# Encontrar todas las filas (tr)\u001b[39;00m\n\u001b[32m      4\u001b[39m filas = tbody.find_elements(By.TAG_NAME, \u001b[33m'\u001b[39m\u001b[33mtr\u001b[39m\u001b[33m'\u001b[39m)\n",
      "\u001b[36mFile \u001b[39m\u001b[32mc:\\Users\\Benjamin\\AppData\\Local\\Programs\\Python\\Python311\\Lib\\site-packages\\selenium\\webdriver\\remote\\webdriver.py:898\u001b[39m, in \u001b[36mWebDriver.find_element\u001b[39m\u001b[34m(self, by, value)\u001b[39m\n\u001b[32m    895\u001b[39m         \u001b[38;5;28;01mraise\u001b[39;00m NoSuchElementException(\u001b[33mf\u001b[39m\u001b[33m\"\u001b[39m\u001b[33mCannot locate relative element with: \u001b[39m\u001b[38;5;132;01m{\u001b[39;00mby.root\u001b[38;5;132;01m}\u001b[39;00m\u001b[33m\"\u001b[39m)\n\u001b[32m    896\u001b[39m     \u001b[38;5;28;01mreturn\u001b[39;00m elements[\u001b[32m0\u001b[39m]\n\u001b[32m--> \u001b[39m\u001b[32m898\u001b[39m \u001b[38;5;28;01mreturn\u001b[39;00m \u001b[38;5;28;43mself\u001b[39;49m\u001b[43m.\u001b[49m\u001b[43mexecute\u001b[49m\u001b[43m(\u001b[49m\u001b[43mCommand\u001b[49m\u001b[43m.\u001b[49m\u001b[43mFIND_ELEMENT\u001b[49m\u001b[43m,\u001b[49m\u001b[43m \u001b[49m\u001b[43m{\u001b[49m\u001b[33;43m\"\u001b[39;49m\u001b[33;43musing\u001b[39;49m\u001b[33;43m\"\u001b[39;49m\u001b[43m:\u001b[49m\u001b[43m \u001b[49m\u001b[43mby\u001b[49m\u001b[43m,\u001b[49m\u001b[43m \u001b[49m\u001b[33;43m\"\u001b[39;49m\u001b[33;43mvalue\u001b[39;49m\u001b[33;43m\"\u001b[39;49m\u001b[43m:\u001b[49m\u001b[43m \u001b[49m\u001b[43mvalue\u001b[49m\u001b[43m}\u001b[49m\u001b[43m)\u001b[49m[\u001b[33m\"\u001b[39m\u001b[33mvalue\u001b[39m\u001b[33m\"\u001b[39m]\n",
      "\u001b[36mFile \u001b[39m\u001b[32mc:\\Users\\Benjamin\\AppData\\Local\\Programs\\Python\\Python311\\Lib\\site-packages\\selenium\\webdriver\\remote\\webdriver.py:429\u001b[39m, in \u001b[36mWebDriver.execute\u001b[39m\u001b[34m(self, driver_command, params)\u001b[39m\n\u001b[32m    427\u001b[39m response = \u001b[38;5;28mself\u001b[39m.command_executor.execute(driver_command, params)\n\u001b[32m    428\u001b[39m \u001b[38;5;28;01mif\u001b[39;00m response:\n\u001b[32m--> \u001b[39m\u001b[32m429\u001b[39m     \u001b[38;5;28;43mself\u001b[39;49m\u001b[43m.\u001b[49m\u001b[43merror_handler\u001b[49m\u001b[43m.\u001b[49m\u001b[43mcheck_response\u001b[49m\u001b[43m(\u001b[49m\u001b[43mresponse\u001b[49m\u001b[43m)\u001b[49m\n\u001b[32m    430\u001b[39m     response[\u001b[33m\"\u001b[39m\u001b[33mvalue\u001b[39m\u001b[33m\"\u001b[39m] = \u001b[38;5;28mself\u001b[39m._unwrap_value(response.get(\u001b[33m\"\u001b[39m\u001b[33mvalue\u001b[39m\u001b[33m\"\u001b[39m, \u001b[38;5;28;01mNone\u001b[39;00m))\n\u001b[32m    431\u001b[39m     \u001b[38;5;28;01mreturn\u001b[39;00m response\n",
      "\u001b[36mFile \u001b[39m\u001b[32mc:\\Users\\Benjamin\\AppData\\Local\\Programs\\Python\\Python311\\Lib\\site-packages\\selenium\\webdriver\\remote\\errorhandler.py:232\u001b[39m, in \u001b[36mErrorHandler.check_response\u001b[39m\u001b[34m(self, response)\u001b[39m\n\u001b[32m    230\u001b[39m         alert_text = value[\u001b[33m\"\u001b[39m\u001b[33malert\u001b[39m\u001b[33m\"\u001b[39m].get(\u001b[33m\"\u001b[39m\u001b[33mtext\u001b[39m\u001b[33m\"\u001b[39m)\n\u001b[32m    231\u001b[39m     \u001b[38;5;28;01mraise\u001b[39;00m exception_class(message, screen, stacktrace, alert_text)  \u001b[38;5;66;03m# type: ignore[call-arg]  # mypy is not smart enough here\u001b[39;00m\n\u001b[32m--> \u001b[39m\u001b[32m232\u001b[39m \u001b[38;5;28;01mraise\u001b[39;00m exception_class(message, screen, stacktrace)\n",
      "\u001b[31mNoSuchWindowException\u001b[39m: Message: no such window: target window already closed\nfrom unknown error: web view not found\n  (Session info: chrome=136.0.7103.93)\nStacktrace:\n\tGetHandleVerifier [0x00007FF77521CF25+75717]\n\tGetHandleVerifier [0x00007FF77521CF80+75808]\n\t(No symbol) [0x00007FF774FE8F9A]\n\t(No symbol) [0x00007FF774FC1B41]\n\t(No symbol) [0x00007FF77506EC2E]\n\t(No symbol) [0x00007FF77508ECC2]\n\t(No symbol) [0x00007FF775067153]\n\t(No symbol) [0x00007FF775030421]\n\t(No symbol) [0x00007FF7750311B3]\n\tGetHandleVerifier [0x00007FF77551D6FD+3223453]\n\tGetHandleVerifier [0x00007FF775517CA2+3200322]\n\tGetHandleVerifier [0x00007FF775535AD3+3322739]\n\tGetHandleVerifier [0x00007FF7752369FA+180890]\n\tGetHandleVerifier [0x00007FF77523E0FF+211359]\n\tGetHandleVerifier [0x00007FF775225274+109332]\n\tGetHandleVerifier [0x00007FF775225422+109762]\n\tGetHandleVerifier [0x00007FF77520BA39+4825]\n\tBaseThreadInitThunk [0x00007FFFE2E1E8D7+23]\n\tRtlUserThreadStart [0x00007FFFE3DF14FC+44]\n"
     ]
    }
   ],
   "source": [
    "tbody = driver.find_element(By.XPATH, '//*[@id=\"ctl00_cphContent_rgTipoCambio_ctl00\"]/tbody')\n",
    "\n",
    "# Encontrar todas las filas (tr)\n",
    "filas = tbody.find_elements(By.TAG_NAME, 'tr')\n",
    "\n",
    "# Extraer los datos\n",
    "datos = []\n",
    "for fila in filas:\n",
    "    columnas = fila.find_elements(By.TAG_NAME, 'td')\n",
    "    if len(columnas) == 3:  # Esperamos 3 columnas: Moneda, Compra, Venta\n",
    "        moneda = columnas[0].text.strip()\n",
    "        compra = columnas[1].text.strip()\n",
    "        venta = columnas[2].text.strip()\n",
    "        if (compra==\"0\" and venta !=\"0\"):\n",
    "            compra=venta\n",
    "        elif (venta==\"0\" and compra !=\"0\"):\n",
    "            venta=compra\n",
    "        datos.append({\n",
    "            \"moneda\": moneda,\n",
    "            \"compra\": compra,\n",
    "            \"venta\": venta\n",
    "        })\n",
    "# Mostrar resultado\n",
    "for d in datos:\n",
    "    print(d)\n",
    "\n",
    "# Cerrar navegador\n",
    "driver.quit()"
   ]
  },
  {
   "cell_type": "code",
   "execution_count": null,
   "id": "c95f9e64",
   "metadata": {},
   "outputs": [
    {
     "name": "stdout",
     "output_type": "stream",
     "text": [
      "Datos guardados exitosamente en 12-05-2025/sbs_tipo_cambio.json\n"
     ]
    }
   ],
   "source": [
    "fecha_hoy = datetime.now().strftime('%d-%m-%Y')\n",
    "\n",
    "# Crear la carpeta destino\n",
    "ruta_carpeta = f\"{fecha_hoy}/\"\n",
    "os.makedirs(ruta_carpeta, exist_ok=True)\n",
    "\n",
    "# Definir el nombre del archivo\n",
    "ruta_archivo = os.path.join(ruta_carpeta, 'sbs_tipo_cambio.json')\n",
    "\n",
    "# Guardar los datos en formato JSON\n",
    "with open(ruta_archivo, 'w', encoding='utf-8') as f:\n",
    "    json.dump(datos, f, indent=4, ensure_ascii=False)\n",
    "\n",
    "print(f\"Datos guardados exitosamente en {ruta_archivo}\")"
   ]
  }
 ],
 "metadata": {
  "kernelspec": {
   "display_name": "Python 3",
   "language": "python",
   "name": "python3"
  },
  "language_info": {
   "codemirror_mode": {
    "name": "ipython",
    "version": 3
   },
   "file_extension": ".py",
   "mimetype": "text/x-python",
   "name": "python",
   "nbconvert_exporter": "python",
   "pygments_lexer": "ipython3",
   "version": "3.11.8"
  }
 },
 "nbformat": 4,
 "nbformat_minor": 5
}
